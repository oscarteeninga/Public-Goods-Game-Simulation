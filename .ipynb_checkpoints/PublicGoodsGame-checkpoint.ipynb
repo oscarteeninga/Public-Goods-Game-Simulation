{
 "cells": [
  {
   "cell_type": "code",
   "execution_count": 1,
   "metadata": {},
   "outputs": [
    {
     "data": {
      "text/plain": [
       "\u001b[32mimport \u001b[39m\u001b[36mscala.math.{abs, max, min}\n",
       "\u001b[39m\n",
       "\u001b[32mimport \u001b[39m\u001b[36mscala.util.Random\n",
       "\n",
       "\u001b[39m\n",
       "\u001b[32mimport \u001b[39m\u001b[36m$ivy.$                                      \n",
       "\n",
       "\u001b[39m\n",
       "\u001b[32mimport \u001b[39m\u001b[36mplotly._\n",
       "\u001b[39m\n",
       "\u001b[32mimport \u001b[39m\u001b[36mplotly.element._\n",
       "\u001b[39m\n",
       "\u001b[32mimport \u001b[39m\u001b[36mplotly.layout._\n",
       "\u001b[39m\n",
       "\u001b[32mimport \u001b[39m\u001b[36mPlotly._\u001b[39m"
      ]
     },
     "execution_count": 1,
     "metadata": {},
     "output_type": "execute_result"
    }
   ],
   "source": [
    "import scala.math.{abs, max, min}\n",
    "import scala.util.Random\n",
    "\n",
    "import $ivy.`org.plotly-scala::plotly-almond:0.8.1`\n",
    "\n",
    "import plotly._\n",
    "import plotly.element._\n",
    "import plotly.layout._\n",
    "import Plotly._"
   ]
  },
  {
   "cell_type": "code",
   "execution_count": 2,
   "metadata": {
    "scrolled": true
   },
   "outputs": [
    {
     "data": {
      "text/plain": [
       "defined \u001b[32mclass\u001b[39m \u001b[36mEmotions\u001b[39m\n",
       "defined \u001b[32mclass\u001b[39m \u001b[36mPersonality\u001b[39m\n",
       "defined \u001b[32mobject\u001b[39m \u001b[36mPersonality\u001b[39m\n",
       "defined \u001b[32mclass\u001b[39m \u001b[36mStat\u001b[39m\n",
       "defined \u001b[32mobject\u001b[39m \u001b[36mStats\u001b[39m"
      ]
     },
     "execution_count": 2,
     "metadata": {},
     "output_type": "execute_result"
    }
   ],
   "source": [
    "case class Emotions(angry: Int, thankfulness: Int) {\n",
    "\n",
    "  def update(payIn: Double, payOff: Double): Emotions = {\n",
    "    if (payOff < 1.5 * payIn) {\n",
    "      Emotions(between(angry + 1), between(thankfulness - 1))\n",
    "    } else {\n",
    "      Emotions(between(angry - 1), between(thankfulness + 1))\n",
    "    }\n",
    "  }\n",
    "\n",
    "  private def between(value: Int, min: Int = 0, max: Int = 10): Int = {\n",
    "    if (value < min) min\n",
    "    else if (value > max) max\n",
    "    else value\n",
    "  }\n",
    "\n",
    "  def emotionFactor: Double = {\n",
    "    1.0 + (thankfulness - angry)/10\n",
    "  }\n",
    "\n",
    "  def +(other: Emotions): Emotions = {\n",
    "    Emotions((this.angry + other.angry)/2, (this.thankfulness + other.thankfulness)/2)\n",
    "  }\n",
    "}\n",
    "\n",
    "case class Personality(name: String, altruism: Double, egoism: Double, cooperating: Double) {\n",
    "\n",
    "  lazy val features = Seq(altruism, egoism, cooperating)\n",
    "\n",
    "  def ==(other: Personality): Boolean = {\n",
    "    this.egoism == other.egoism && this.altruism == other.altruism && this.cooperating == other.cooperating\n",
    "  }\n",
    "}\n",
    "\n",
    "object Personality {\n",
    "  val altruistic: Personality = Personality(\"altruistic\", 1.0, 0.0, 0.75)\n",
    "  val egoistic: Personality = Personality(\"egoistic\", 0.0, 1.0, 0.25)\n",
    "  val impostor: Personality = Personality(\"impostor\", 0.0, 1.0, 0.0)\n",
    "  val ordinary: Personality = Personality(\"ordinary\", 0.5, 0.5, 0.5)\n",
    "  val erudite: Personality = Personality(\"erudite\", 0.5, 0.75, 1.0)\n",
    "\n",
    "  lazy val personalities = Seq(altruistic, egoistic, impostor, ordinary, erudite)\n",
    "\n",
    "  def fromFeatures(altruism: Double, egoism: Double, cooperating: Double): Personality = {\n",
    "    personalities.find(Personality(\"\", altruism, egoism, cooperating) == _).getOrElse(throw new ClassNotFoundException(\"Personality not found\"))\n",
    "  }\n",
    "}\n",
    "\n",
    "case class Stat(personality: Personality, emotions: Emotions, amount: Double, payIn: Double, payOff: Double)\n",
    "\n",
    "object Stats {\n",
    "\n",
    "  def groupByPersonality(stats: List[Stat]): List[Stat] = {\n",
    "    stats.groupBy(_.personality).map { case (personality, statList) =>\n",
    "      Stat(\n",
    "        personality,\n",
    "        statList.map(_.emotions).reduce(_ + _),\n",
    "        statList.map(_.amount).sum / statList.size,\n",
    "        statList.map(_.payIn).sum / statList.size,\n",
    "        statList.map(_.payOff).sum / statList.size\n",
    "      )\n",
    "    }.toList\n",
    "  }\n",
    "\n",
    "  def statsToString(stats: List[Stat]): String = {\n",
    "    stats.mkString(\"\\n\")\n",
    "  }\n",
    "}"
   ]
  },
  {
   "cell_type": "code",
   "execution_count": 3,
   "metadata": {
    "scrolled": true
   },
   "outputs": [
    {
     "data": {
      "text/plain": [
       "defined \u001b[32mtrait\u001b[39m \u001b[36mPlayer\u001b[39m\n",
       "defined \u001b[32mclass\u001b[39m \u001b[36mAltruist\u001b[39m\n",
       "defined \u001b[32mclass\u001b[39m \u001b[36mCasual\u001b[39m\n",
       "defined \u001b[32mclass\u001b[39m \u001b[36mImpostor\u001b[39m\n",
       "defined \u001b[32mclass\u001b[39m \u001b[36mOrdinary\u001b[39m\n",
       "defined \u001b[32mclass\u001b[39m \u001b[36mCommunity\u001b[39m\n",
       "defined \u001b[32mobject\u001b[39m \u001b[36mCommunity\u001b[39m"
      ]
     },
     "execution_count": 3,
     "metadata": {},
     "output_type": "execute_result"
    }
   ],
   "source": [
    "trait Player {\n",
    "\n",
    "  val id: String\n",
    "  val personality: Personality\n",
    "  var emotions: Emotions = Emotions(5, 5)\n",
    "  val community: Community\n",
    "  val neighbourhood: Community = Community.empty\n",
    "\n",
    "  var amount: Double = community.amount\n",
    "  var lastPayoff: Double = 0\n",
    "  var lastPayIn: Double = amount / 2\n",
    "\n",
    "  def payout(payoff: Double): Unit = {\n",
    "    lastPayoff = payoff\n",
    "    amount += payoff\n",
    "    emotions = emotions.update(lastPayIn, lastPayoff)\n",
    "  }\n",
    "\n",
    "  protected def b1: Double = emotions.emotionFactor * abs(personality.altruism * 0.75 + personality.cooperating * 0.25 - personality.egoism * 0.5) / 2\n",
    "\n",
    "  protected def b2: Double = emotions.emotionFactor * abs(personality.altruism * 0.75 + personality.cooperating * 0.25 - personality.egoism * 1.0) / 2\n",
    "\n",
    "  private def randomFactor: Double = (2 + (0.5 - Random.nextDouble())) / 2\n",
    "\n",
    "  private def contribution: Double = {\n",
    "    min(amount,  randomFactor * max(b1 * lastPayoff + b2 * (lastPayIn * community.size - lastPayoff) / (community.size - 1), 0))\n",
    "  }\n",
    "\n",
    "  def payIn: Double = {\n",
    "    lastPayIn = contribution\n",
    "    amount -= lastPayIn\n",
    "    lastPayIn\n",
    "  }\n",
    "\n",
    "  override def toString: String = {\n",
    "    getClass.getSimpleName + id + \":\\t\" + amount\n",
    "  }\n",
    "}\n",
    "\n",
    "case class Altruist(id: String, community: Community) extends Player {\n",
    "  override val personality: Personality = Personality.altruistic\n",
    "}\n",
    "\n",
    "case class Casual(id: String, community: Community) extends Player {\n",
    "\n",
    "  override protected def b1: Double = Random.nextDouble()\n",
    "\n",
    "  override protected def b2: Double = Random.nextDouble()\n",
    "\n",
    "  override val personality: Personality = Personality.ordinary\n",
    "}\n",
    "\n",
    "case class Impostor(id: String, community: Community) extends Player {\n",
    "  override val personality: Personality = Personality.impostor\n",
    "}\n",
    "\n",
    "case class Ordinary(id: String, community: Community) extends Player {\n",
    "\n",
    "  override protected def b1: Double = 0.5\n",
    "\n",
    "  override protected def b2: Double = 0.5\n",
    "\n",
    "  override val personality: Personality = Personality.ordinary\n",
    "}\n",
    "\n",
    "case class Community(amount: Double, factor: Double) {\n",
    "\n",
    "  private var players: List[Player] = Nil\n",
    "  var statistics:  Map[Int, List[Stat]] = Map.empty\n",
    "\n",
    "  def size: Int = players.size\n",
    "\n",
    "  private def payIns(): Double = {\n",
    "    players.map(_.payIn).sum\n",
    "  }\n",
    "\n",
    "  private def payOuts(pot: Double): Unit = {\n",
    "    val payOff = pot * factor / size\n",
    "    players.foreach(_.payout(payOff))\n",
    "  }\n",
    "\n",
    "  private def updateStatistics(roundIndex: Int): Unit = {\n",
    "    statistics += (roundIndex -> players.map(player => Stat(player.personality, player.emotions, player.amount, player.lastPayIn, player.lastPayoff)))\n",
    "  }\n",
    "\n",
    "  def round(roundIndex: Int): List[Stat] = {\n",
    "    val pot = payIns()\n",
    "    payOuts(pot)\n",
    "    updateStatistics(roundIndex)\n",
    "    statistics(roundIndex)\n",
    "  }\n",
    "\n",
    "  def play(rounds: Int): Unit = {\n",
    "    (1 to rounds).toList.foreach(idx => round(idx))\n",
    "  }\n",
    "\n",
    "  def withCasual(count: Int): Community = {\n",
    "    addPlayers(count, Casual(_, this))\n",
    "    this\n",
    "  }\n",
    "\n",
    "  def withAltruist(count: Int): Community = {\n",
    "    addPlayers(count, Altruist(_, this))\n",
    "    this\n",
    "  }\n",
    "\n",
    "  def withImpostor(count: Int): Community = {\n",
    "    addPlayers(count, Impostor(_, this))\n",
    "    this\n",
    "  }\n",
    "\n",
    "  def withOrdinary(count: Int): Community = {\n",
    "    addPlayers(count, Ordinary(_, this))\n",
    "    this\n",
    "  }\n",
    "\n",
    "  private def addPlayers(count: Int, playerCreation: String => Player): Unit = {\n",
    "    players ++= (1 to count).toList.map(id => playerCreation(id.toString))\n",
    "  }\n",
    "\n",
    "  def getStatistic: List[(Int, List[Stat])] = statistics.toList.sortBy(_._1)(Ordering.Int)\n",
    "}\n",
    "\n",
    "object Community {\n",
    "  val empty: Community = new Community(0, 0)\n",
    "}"
   ]
  },
  {
   "cell_type": "code",
   "execution_count": 4,
   "metadata": {
    "scrolled": true
   },
   "outputs": [
    {
     "data": {
      "text/plain": [
       "\u001b[36mmanhattan\u001b[39m: \u001b[32mCommunity\u001b[39m = \u001b[33mCommunity\u001b[39m(amount = \u001b[32m10.0\u001b[39m, factor = \u001b[32m1.5\u001b[39m)"
      ]
     },
     "execution_count": 4,
     "metadata": {},
     "output_type": "execute_result"
    }
   ],
   "source": [
    "val manhattan = Community(10.0, 1.5)\n",
    "    .withAltruist(1)\n",
    "    .withImpostor(1)\n",
    "    .withOrdinary(1)\n",
    "\n",
    "manhattan.play(20)\n",
    "\n"
   ]
  },
  {
   "cell_type": "code",
   "execution_count": 5,
   "metadata": {
    "scrolled": true
   },
   "outputs": [
    {
     "data": {
      "text/plain": [
       "\u001b[36mpersonalityAmount\u001b[39m: \u001b[32mMap\u001b[39m[\u001b[32mString\u001b[39m, \u001b[32mList\u001b[39m[(\u001b[32mInt\u001b[39m, \u001b[32mDouble\u001b[39m)]] = \u001b[33mMap\u001b[39m(\n",
       "  \u001b[32m\"impostor\"\u001b[39m -> \u001b[33mList\u001b[39m(\n",
       "    (\u001b[32m1\u001b[39m, \u001b[32m12.173057612669169\u001b[39m),\n",
       "    (\u001b[32m2\u001b[39m, \u001b[32m14.62411514035324\u001b[39m),\n",
       "    (\u001b[32m3\u001b[39m, \u001b[32m17.393536165470866\u001b[39m),\n",
       "    (\u001b[32m4\u001b[39m, \u001b[32m20.858254163493136\u001b[39m),\n",
       "    (\u001b[32m5\u001b[39m, \u001b[32m25.505921872749262\u001b[39m),\n",
       "    (\u001b[32m6\u001b[39m, \u001b[32m29.527581504426024\u001b[39m),\n",
       "    (\u001b[32m7\u001b[39m, \u001b[32m32.96483280162981\u001b[39m),\n",
       "    (\u001b[32m8\u001b[39m, \u001b[32m35.59980475250262\u001b[39m),\n",
       "    (\u001b[32m9\u001b[39m, \u001b[32m38.37008952334281\u001b[39m),\n",
       "    (\u001b[32m10\u001b[39m, \u001b[32m40.80931232312159\u001b[39m),\n",
       "    (\u001b[32m11\u001b[39m, \u001b[32m44.37280646951477\u001b[39m),\n",
       "    (\u001b[32m12\u001b[39m, \u001b[32m46.28785892357093\u001b[39m),\n",
       "    (\u001b[32m13\u001b[39m, \u001b[32m50.926637446446065\u001b[39m),\n",
       "    (\u001b[32m14\u001b[39m, \u001b[32m55.867187652902444\u001b[39m),\n",
       "    (\u001b[32m15\u001b[39m, \u001b[32m58.073453512724384\u001b[39m),\n",
       "    (\u001b[32m16\u001b[39m, \u001b[32m65.88717014728556\u001b[39m),\n",
       "    (\u001b[32m17\u001b[39m, \u001b[32m73.08211040627012\u001b[39m),\n",
       "    (\u001b[32m18\u001b[39m, \u001b[32m76.34627712714783\u001b[39m),\n",
       "    (\u001b[32m19\u001b[39m, \u001b[32m84.5643320967136\u001b[39m),\n",
       "    (\u001b[32m20\u001b[39m, \u001b[32m97.02530575102996\u001b[39m)\n",
       "  ),\n",
       "  \u001b[32m\"ordinary\"\u001b[39m -> \u001b[33mList\u001b[39m(\n",
       "    (\u001b[32m1\u001b[39m, \u001b[32m11.88730662822427\u001b[39m),\n",
       "    (\u001b[32m2\u001b[39m, \u001b[32m13.430444801978265\u001b[39m),\n",
       "    (\u001b[32m3\u001b[39m, \u001b[32m14.053827488388574\u001b[39m),\n",
       "    (\u001b[32m4\u001b[39m, \u001b[32m13.71784037805911\u001b[39m),\n",
       "    (\u001b[32m5\u001b[39m, \u001b[32m12.661199188544586\u001b[39m),\n",
       "    (\u001b[32m6\u001b[39m, \u001b[32m12.887980670447508\u001b[39m),\n",
       "    (\u001b[32m7\u001b[39m, \u001b[32m13.646034488706084\u001b[39m),\n",
       "    (\u001b[32m8\u001b[39m, \u001b[32m14.928978055053035\u001b[39m),\n",
       "    (\u001b[32m9\u001b[39m, \u001b[32m16.765434699743732\u001b[39m),\n",
       "    (\u001b[32m10\u001b[39m, \u001b[32m19.624799893664683\u001b[39m),\n",
       "    (\u001b[32m11\u001b[39m, \u001b[32m20.86748910993521\u001b[39m),\n",
       "    (\u001b[32m12\u001b[39m, \u001b[32m24.26794627839718\u001b[39m),\n",
       "    (\u001b[32m13\u001b[39m, \u001b[32m24.62746449985365\u001b[39m),\n",
       "    (\u001b[32m14\u001b[39m, \u001b[32m24.835033399049912\u001b[39m),\n",
       "    (\u001b[32m15\u001b[39m, \u001b[32m27.719375271224003\u001b[39m),\n",
       "..."
      ]
     },
     "execution_count": 5,
     "metadata": {},
     "output_type": "execute_result"
    }
   ],
   "source": [
    "  val personalityAmount = manhattan.getStatistic.flatMap {\n",
    "    case (round, stats) => stats.map(stat => (round, stat.personality.name, stat.amount))\n",
    "  }.groupBy(_._2).mapValues(stats => stats.map(s => (s._1, s._3))).toMap"
   ]
  },
  {
   "cell_type": "code",
   "execution_count": 9,
   "metadata": {},
   "outputs": [
    {
     "name": "stderr",
     "output_type": "stream",
     "text": [
      "cmd9.sc:4: not found: value values\n",
      "    val (x, y) = values.unzip\n",
      "                 ^cmd9.sc:5: type mismatch;\n",
      " found   : Any\n",
      " required: plotly.Sequence\n",
      "    val scatters = data.map { case (key, values) => Scatter(x, y, name = key) }.toSeq\n",
      "                                                            ^cmd9.sc:5: type mismatch;\n",
      " found   : Any\n",
      " required: plotly.Sequence\n",
      "    val scatters = data.map { case (key, values) => Scatter(x, y, name = key) }.toSeq\n",
      "                                                               ^Compilation Failed"
     ]
    },
    {
     "ename": "",
     "evalue": "",
     "output_type": "error",
     "traceback": [
      "Compilation Failed"
     ]
    }
   ],
   "source": [
    "import plotly._, element._, layout._, Plotly._\n",
    "\n",
    "def plot_data(data: Map[String, List[(Int, Double)]]): Unit = {\n",
    "    val scatters = data.map { \n",
    "        case (key, values) => {\n",
    "            val (x, y) = values.unzip\n",
    "            Scatter(x, y, name = key) }.toSeq \n",
    "        }\n",
    "    val lay = Layout().withTitle(\"Curves\")\n",
    "    scatters.plot(\n",
    "        title = \"xd\"\n",
    "        )\n",
    "}\n"
   ]
  },
  {
   "cell_type": "code",
   "execution_count": 9,
   "metadata": {},
   "outputs": [
    {
     "name": "stderr",
     "output_type": "stream",
     "text": [
      "cmd9.sc:1: not enough arguments for method plot: (path: String, traces: Seq[plotly.Trace], layout: plotly.layout.Layout, config: plotly.Config, useCdn: Boolean, openInBrowser: Boolean, addSuffixIfExists: Boolean): java.io.File.\n",
      "Unspecified value parameters traces, layout.\n",
      "val res9 = plot(personalityAmount)\n",
      "               ^Compilation Failed"
     ]
    },
    {
     "ename": "",
     "evalue": "",
     "output_type": "error",
     "traceback": [
      "Compilation Failed"
     ]
    }
   ],
   "source": [
    "plot(personalityAmount)\n"
   ]
  },
  {
   "cell_type": "code",
   "execution_count": null,
   "metadata": {},
   "outputs": [],
   "source": []
  }
 ],
 "metadata": {
  "kernelspec": {
   "display_name": "Scala",
   "language": "scala",
   "name": "scala"
  },
  "language_info": {
   "codemirror_mode": "text/x-scala",
   "file_extension": ".sc",
   "mimetype": "text/x-scala",
   "name": "scala",
   "nbconvert_exporter": "script",
   "version": "2.13.4"
  }
 },
 "nbformat": 4,
 "nbformat_minor": 4
}
