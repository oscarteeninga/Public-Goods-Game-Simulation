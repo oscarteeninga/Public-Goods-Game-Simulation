{
 "cells": [
  {
   "cell_type": "code",
   "execution_count": 1,
   "metadata": {},
   "outputs": [
    {
     "data": {
      "text/plain": [
       "\u001b[32mimport \u001b[39m\u001b[36mscala.math.{abs, max, min}\n",
       "\u001b[39m\n",
       "\u001b[32mimport \u001b[39m\u001b[36mscala.util.Random\n",
       "\n",
       "\u001b[39m\n",
       "\u001b[32mimport \u001b[39m\u001b[36m$ivy.$                                      \n",
       "\n",
       "\u001b[39m\n",
       "\u001b[32mimport \u001b[39m\u001b[36mplotly._\n",
       "\u001b[39m\n",
       "\u001b[32mimport \u001b[39m\u001b[36mplotly.element._\n",
       "\u001b[39m\n",
       "\u001b[32mimport \u001b[39m\u001b[36mplotly.layout._\n",
       "\u001b[39m\n",
       "\u001b[32mimport \u001b[39m\u001b[36mplotly.Almond._\u001b[39m"
      ]
     },
     "execution_count": 1,
     "metadata": {},
     "output_type": "execute_result"
    }
   ],
   "source": [
    "import scala.math.{abs, max, min}\n",
    "import scala.util.Random\n",
    "\n",
    "import $ivy.`org.plotly-scala::plotly-almond:0.8.1`\n",
    "\n",
    "import plotly._\n",
    "import plotly.element._\n",
    "import plotly.layout._\n",
    "import plotly.Almond._"
   ]
  },
  {
   "cell_type": "code",
   "execution_count": 2,
   "metadata": {
    "scrolled": true
   },
   "outputs": [
    {
     "data": {
      "text/plain": [
       "defined \u001b[32mclass\u001b[39m \u001b[36mEmotions\u001b[39m\n",
       "defined \u001b[32mclass\u001b[39m \u001b[36mPersonality\u001b[39m\n",
       "defined \u001b[32mobject\u001b[39m \u001b[36mPersonality\u001b[39m\n",
       "defined \u001b[32mclass\u001b[39m \u001b[36mStat\u001b[39m\n",
       "defined \u001b[32mobject\u001b[39m \u001b[36mStats\u001b[39m"
      ]
     },
     "execution_count": 2,
     "metadata": {},
     "output_type": "execute_result"
    }
   ],
   "source": [
    "case class Emotions(angry: Int, thankfulness: Int) {\n",
    "\n",
    "  def update(payIn: Double, payOff: Double): Emotions = {\n",
    "    if (payOff < 1.5 * payIn) {\n",
    "      Emotions(between(angry + 1), between(thankfulness - 1))\n",
    "    } else {\n",
    "      Emotions(between(angry - 1), between(thankfulness + 1))\n",
    "    }\n",
    "  }\n",
    "\n",
    "  private def between(value: Int, min: Int = 0, max: Int = 10): Int = {\n",
    "    if (value < min) min\n",
    "    else if (value > max) max\n",
    "    else value\n",
    "  }\n",
    "\n",
    "  def emotionFactor: Double = {\n",
    "    1.0 + (thankfulness - angry)/10\n",
    "  }\n",
    "\n",
    "  def +(other: Emotions): Emotions = {\n",
    "    Emotions((this.angry + other.angry)/2, (this.thankfulness + other.thankfulness)/2)\n",
    "  }\n",
    "}\n",
    "\n",
    "case class Personality(name: String, altruism: Double, egoism: Double, cooperating: Double) {\n",
    "\n",
    "  lazy val features = Seq(altruism, egoism, cooperating)\n",
    "\n",
    "  def ==(other: Personality): Boolean = {\n",
    "    this.egoism == other.egoism && this.altruism == other.altruism && this.cooperating == other.cooperating\n",
    "  }\n",
    "}\n",
    "\n",
    "object Personality {\n",
    "  val altruistic: Personality = Personality(\"altruistic\", 1.0, 0.0, 0.75)\n",
    "  val egoistic: Personality = Personality(\"egoistic\", 0.0, 1.0, 0.25)\n",
    "  val impostor: Personality = Personality(\"impostor\", 0.0, 1.0, 0.0)\n",
    "  val ordinary: Personality = Personality(\"ordinary\", 0.5, 0.5, 0.5)\n",
    "  val erudite: Personality = Personality(\"erudite\", 0.5, 0.75, 1.0)\n",
    "\n",
    "  lazy val personalities = Seq(altruistic, egoistic, impostor, ordinary, erudite)\n",
    "\n",
    "  def fromFeatures(altruism: Double, egoism: Double, cooperating: Double): Personality = {\n",
    "    personalities.find(Personality(\"\", altruism, egoism, cooperating) == _).getOrElse(throw new ClassNotFoundException(\"Personality not found\"))\n",
    "  }\n",
    "}\n",
    "\n",
    "case class Stat(personality: Personality, emotions: Emotions, amount: Double, payIn: Double, payOff: Double)\n",
    "\n",
    "object Stats {\n",
    "\n",
    "  def groupByPersonality(stats: List[Stat]): List[Stat] = {\n",
    "    stats.groupBy(_.personality).map { case (personality, statList) =>\n",
    "      Stat(\n",
    "        personality,\n",
    "        statList.map(_.emotions).reduce(_ + _),\n",
    "        statList.map(_.amount).sum / statList.size,\n",
    "        statList.map(_.payIn).sum / statList.size,\n",
    "        statList.map(_.payOff).sum / statList.size\n",
    "      )\n",
    "    }.toList\n",
    "  }\n",
    "\n",
    "  def statsToString(stats: List[Stat]): String = {\n",
    "    stats.mkString(\"\\n\")\n",
    "  }\n",
    "}"
   ]
  },
  {
   "cell_type": "code",
   "execution_count": 3,
   "metadata": {
    "scrolled": true
   },
   "outputs": [
    {
     "data": {
      "text/plain": [
       "defined \u001b[32mtrait\u001b[39m \u001b[36mPlayer\u001b[39m\n",
       "defined \u001b[32mclass\u001b[39m \u001b[36mAltruist\u001b[39m\n",
       "defined \u001b[32mclass\u001b[39m \u001b[36mCasual\u001b[39m\n",
       "defined \u001b[32mclass\u001b[39m \u001b[36mImpostor\u001b[39m\n",
       "defined \u001b[32mclass\u001b[39m \u001b[36mOrdinary\u001b[39m\n",
       "defined \u001b[32mclass\u001b[39m \u001b[36mCommunity\u001b[39m\n",
       "defined \u001b[32mobject\u001b[39m \u001b[36mCommunity\u001b[39m"
      ]
     },
     "execution_count": 3,
     "metadata": {},
     "output_type": "execute_result"
    }
   ],
   "source": [
    "trait Player {\n",
    "\n",
    "  val id: String\n",
    "  val personality: Personality\n",
    "  var emotions: Emotions = Emotions(5, 5)\n",
    "  val community: Community\n",
    "  val neighbourhood: Community = Community.empty\n",
    "\n",
    "  var amount: Double = community.amount\n",
    "  var lastPayoff: Double = 0\n",
    "  var lastPayIn: Double = amount / 2\n",
    "\n",
    "  def payout(payoff: Double): Unit = {\n",
    "    lastPayoff = payoff\n",
    "    amount += payoff\n",
    "    emotions = emotions.update(lastPayIn, lastPayoff)\n",
    "  }\n",
    "\n",
    "  protected def b1: Double = emotions.emotionFactor * abs(personality.altruism * 0.75 + personality.cooperating * 0.25 - personality.egoism * 0.5) / 2\n",
    "\n",
    "  protected def b2: Double = emotions.emotionFactor * abs(personality.altruism * 0.75 + personality.cooperating * 0.25 - personality.egoism * 1.0) / 2\n",
    "\n",
    "  private def randomFactor: Double = (2 + (0.5 - Random.nextDouble())) / 2\n",
    "\n",
    "  private def contribution: Double = {\n",
    "    min(amount,  randomFactor * max(b1 * lastPayoff + b2 * (lastPayIn * community.size - lastPayoff) / (community.size - 1), 0))\n",
    "  }\n",
    "\n",
    "  def payIn: Double = {\n",
    "    lastPayIn = contribution\n",
    "    amount -= lastPayIn\n",
    "    lastPayIn\n",
    "  }\n",
    "\n",
    "  override def toString: String = {\n",
    "    getClass.getSimpleName + id + \":\\t\" + amount\n",
    "  }\n",
    "}\n",
    "\n",
    "case class Altruist(id: String, community: Community) extends Player {\n",
    "  override val personality: Personality = Personality.altruistic\n",
    "}\n",
    "\n",
    "case class Casual(id: String, community: Community) extends Player {\n",
    "\n",
    "  override protected def b1: Double = Random.nextDouble()\n",
    "\n",
    "  override protected def b2: Double = Random.nextDouble()\n",
    "\n",
    "  override val personality: Personality = Personality.ordinary\n",
    "}\n",
    "\n",
    "case class Impostor(id: String, community: Community) extends Player {\n",
    "  override val personality: Personality = Personality.impostor\n",
    "}\n",
    "\n",
    "case class Ordinary(id: String, community: Community) extends Player {\n",
    "\n",
    "  override protected def b1: Double = 0.5\n",
    "\n",
    "  override protected def b2: Double = 0.5\n",
    "\n",
    "  override val personality: Personality = Personality.ordinary\n",
    "}\n",
    "\n",
    "case class Community(amount: Double, factor: Double) {\n",
    "\n",
    "  private var players: List[Player] = Nil\n",
    "  var statistics:  Map[Int, List[Stat]] = Map.empty\n",
    "\n",
    "  def size: Int = players.size\n",
    "\n",
    "  private def payIns(): Double = {\n",
    "    players.map(_.payIn).sum\n",
    "  }\n",
    "\n",
    "  private def payOuts(pot: Double): Unit = {\n",
    "    val payOff = pot * factor / size\n",
    "    players.foreach(_.payout(payOff))\n",
    "  }\n",
    "\n",
    "  private def updateStatistics(roundIndex: Int): Unit = {\n",
    "    statistics += (roundIndex -> players.map(player => Stat(player.personality, player.emotions, player.amount, player.lastPayIn, player.lastPayoff)))\n",
    "  }\n",
    "\n",
    "  def round(roundIndex: Int): List[Stat] = {\n",
    "    val pot = payIns()\n",
    "    payOuts(pot)\n",
    "    updateStatistics(roundIndex)\n",
    "    statistics(roundIndex)\n",
    "  }\n",
    "\n",
    "  def play(rounds: Int): Unit = {\n",
    "    (1 to rounds).toList.foreach(idx => round(idx))\n",
    "  }\n",
    "\n",
    "  def withCasual(count: Int): Community = {\n",
    "    addPlayers(count, Casual(_, this))\n",
    "    this\n",
    "  }\n",
    "\n",
    "  def withAltruist(count: Int): Community = {\n",
    "    addPlayers(count, Altruist(_, this))\n",
    "    this\n",
    "  }\n",
    "\n",
    "  def withImpostor(count: Int): Community = {\n",
    "    addPlayers(count, Impostor(_, this))\n",
    "    this\n",
    "  }\n",
    "\n",
    "  def withOrdinary(count: Int): Community = {\n",
    "    addPlayers(count, Ordinary(_, this))\n",
    "    this\n",
    "  }\n",
    "\n",
    "  private def addPlayers(count: Int, playerCreation: String => Player): Unit = {\n",
    "    players ++= (1 to count).toList.map(id => playerCreation(id.toString))\n",
    "  }\n",
    "\n",
    "  def getStatistic: List[(Int, List[Stat])] = statistics.toList.sortBy(_._1)(Ordering.Int)\n",
    "}\n",
    "\n",
    "object Community {\n",
    "  val empty: Community = new Community(0, 0)\n",
    "}"
   ]
  },
  {
   "cell_type": "code",
   "execution_count": 4,
   "metadata": {
    "scrolled": true
   },
   "outputs": [
    {
     "data": {
      "text/plain": [
       "\u001b[36mmanhattan\u001b[39m: \u001b[32mCommunity\u001b[39m = \u001b[33mCommunity\u001b[39m(amount = \u001b[32m10.0\u001b[39m, factor = \u001b[32m1.5\u001b[39m)"
      ]
     },
     "execution_count": 4,
     "metadata": {},
     "output_type": "execute_result"
    }
   ],
   "source": [
    "val manhattan = Community(10.0, 1.5)\n",
    "    .withAltruist(1)\n",
    "    .withImpostor(1)\n",
    "    .withOrdinary(1)\n",
    "\n",
    "manhattan.play(50)\n",
    "\n"
   ]
  },
  {
   "cell_type": "code",
   "execution_count": 5,
   "metadata": {
    "scrolled": true
   },
   "outputs": [
    {
     "data": {
      "text/plain": [
       "\u001b[36mpersonalityAmount\u001b[39m: \u001b[32mMap\u001b[39m[\u001b[32mString\u001b[39m, (\u001b[32mList\u001b[39m[\u001b[32mInt\u001b[39m], \u001b[32mList\u001b[39m[\u001b[32mDouble\u001b[39m])] = \u001b[33mMap\u001b[39m(\n",
       "  \u001b[32m\"impostor\"\u001b[39m -> (\n",
       "    \u001b[33mList\u001b[39m(\n",
       "      \u001b[32m1\u001b[39m,\n",
       "      \u001b[32m2\u001b[39m,\n",
       "      \u001b[32m3\u001b[39m,\n",
       "      \u001b[32m4\u001b[39m,\n",
       "      \u001b[32m5\u001b[39m,\n",
       "      \u001b[32m6\u001b[39m,\n",
       "      \u001b[32m7\u001b[39m,\n",
       "      \u001b[32m8\u001b[39m,\n",
       "      \u001b[32m9\u001b[39m,\n",
       "      \u001b[32m10\u001b[39m,\n",
       "      \u001b[32m11\u001b[39m,\n",
       "      \u001b[32m12\u001b[39m,\n",
       "      \u001b[32m13\u001b[39m,\n",
       "      \u001b[32m14\u001b[39m,\n",
       "      \u001b[32m15\u001b[39m,\n",
       "      \u001b[32m16\u001b[39m,\n",
       "      \u001b[32m17\u001b[39m,\n",
       "      \u001b[32m18\u001b[39m,\n",
       "      \u001b[32m19\u001b[39m,\n",
       "      \u001b[32m20\u001b[39m,\n",
       "      \u001b[32m21\u001b[39m,\n",
       "      \u001b[32m22\u001b[39m,\n",
       "      \u001b[32m23\u001b[39m,\n",
       "      \u001b[32m24\u001b[39m,\n",
       "      \u001b[32m25\u001b[39m,\n",
       "      \u001b[32m26\u001b[39m,\n",
       "      \u001b[32m27\u001b[39m,\n",
       "      \u001b[32m28\u001b[39m,\n",
       "      \u001b[32m29\u001b[39m,\n",
       "      \u001b[32m30\u001b[39m,\n",
       "      \u001b[32m31\u001b[39m,\n",
       "      \u001b[32m32\u001b[39m,\n",
       "      \u001b[32m33\u001b[39m,\n",
       "      \u001b[32m34\u001b[39m,\n",
       "      \u001b[32m35\u001b[39m,\n",
       "      \u001b[32m36\u001b[39m,\n",
       "...\n",
       "\u001b[36mpersonalityPayIn\u001b[39m: \u001b[32mMap\u001b[39m[\u001b[32mString\u001b[39m, (\u001b[32mList\u001b[39m[\u001b[32mInt\u001b[39m], \u001b[32mList\u001b[39m[\u001b[32mDouble\u001b[39m])] = \u001b[33mMap\u001b[39m(\n",
       "  \u001b[32m\"impostor\"\u001b[39m -> (\n",
       "    \u001b[33mList\u001b[39m(\n",
       "      \u001b[32m1\u001b[39m,\n",
       "      \u001b[32m2\u001b[39m,\n",
       "      \u001b[32m3\u001b[39m,\n",
       "      \u001b[32m4\u001b[39m,\n",
       "      \u001b[32m5\u001b[39m,\n",
       "      \u001b[32m6\u001b[39m,\n",
       "      \u001b[32m7\u001b[39m,\n",
       "      \u001b[32m8\u001b[39m,\n",
       "      \u001b[32m9\u001b[39m,\n",
       "      \u001b[32m10\u001b[39m,\n",
       "      \u001b[32m11\u001b[39m,\n",
       "      \u001b[32m12\u001b[39m,\n",
       "      \u001b[32m13\u001b[39m,\n",
       "      \u001b[32m14\u001b[39m,\n",
       "      \u001b[32m15\u001b[39m,\n",
       "      \u001b[32m16\u001b[39m,\n",
       "      \u001b[32m17\u001b[39m,\n",
       "      \u001b[32m18\u001b[39m,\n",
       "      \u001b[32m19\u001b[39m,\n",
       "      \u001b[32m20\u001b[39m,\n",
       "      \u001b[32m21\u001b[39m,\n",
       "      \u001b[32m22\u001b[39m,\n",
       "      \u001b[32m23\u001b[39m,\n",
       "      \u001b[32m24\u001b[39m,\n",
       "      \u001b[32m25\u001b[39m,\n",
       "      \u001b[32m26\u001b[39m,\n",
       "      \u001b[32m27\u001b[39m,\n",
       "      \u001b[32m28\u001b[39m,\n",
       "      \u001b[32m29\u001b[39m,\n",
       "      \u001b[32m30\u001b[39m,\n",
       "      \u001b[32m31\u001b[39m,\n",
       "      \u001b[32m32\u001b[39m,\n",
       "      \u001b[32m33\u001b[39m,\n",
       "      \u001b[32m34\u001b[39m,\n",
       "      \u001b[32m35\u001b[39m,\n",
       "      \u001b[32m36\u001b[39m,\n",
       "..."
      ]
     },
     "execution_count": 5,
     "metadata": {},
     "output_type": "execute_result"
    }
   ],
   "source": [
    "  val personalityAmount = manhattan.getStatistic.flatMap {\n",
    "    case (round, stats) => stats.map(stat => (round, stat.personality.name, stat.amount))\n",
    "  }.groupBy(_._2).mapValues(stats => stats.map(s => (s._1, s._3)).unzip).toMap\n",
    "\n",
    "val personalityPayIn = manhattan.getStatistic.flatMap {\n",
    "    case (round, stats) => stats.map(stat => (round, stat.personality.name, stat.payIn))\n",
    "  }.groupBy(_._2).mapValues(stats => stats.map(s => (s._1, s._3)).unzip).toMap"
   ]
  },
  {
   "cell_type": "code",
   "execution_count": 6,
   "metadata": {},
   "outputs": [
    {
     "data": {
      "text/plain": [
       "defined \u001b[32mfunction\u001b[39m \u001b[36mdata_scatter\u001b[39m"
      ]
     },
     "execution_count": 6,
     "metadata": {},
     "output_type": "execute_result"
    }
   ],
   "source": [
    "def data_scatter(data: Map[String, (List[Int], List[Double])]): Seq[Scatter] = {\n",
    "    data.map { \n",
    "        case (key, (x, y)) => Scatter(x, y, name = key) \n",
    "    }.toSeq\n",
    "}"
   ]
  },
  {
   "cell_type": "code",
   "execution_count": 8,
   "metadata": {},
   "outputs": [
    {
     "ename": "",
     "evalue": "",
     "output_type": "error",
     "traceback": [
      "\u001b[31mjava.lang.NullPointerException: Cannot invoke \"String.length()\" because \"$this\" is null\u001b[39m\n  scala.collection.StringOps$.foreach$extension(\u001b[32mStringOps.scala\u001b[39m:\u001b[32m1015\u001b[39m)\n  plotly.internals.BetterPrinter.appendJsonString$1(\u001b[32mBetterPrinter.scala\u001b[39m:\u001b[32m68\u001b[39m)\n  plotly.internals.BetterPrinter.encloseJsonString$1(\u001b[32mBetterPrinter.scala\u001b[39m:\u001b[32m79\u001b[39m)\n  plotly.internals.BetterPrinter.$anonfun$render$5(\u001b[32mBetterPrinter.scala\u001b[39m:\u001b[32m117\u001b[39m)\n  plotly.internals.shaded.argonaut.Json.fold(\u001b[32mJson.scala\u001b[39m:\u001b[32m31\u001b[39m)\n  plotly.internals.BetterPrinter.trav$1(\u001b[32mBetterPrinter.scala\u001b[39m:\u001b[32m127\u001b[39m)\n  plotly.internals.BetterPrinter.$anonfun$render$9(\u001b[32mBetterPrinter.scala\u001b[39m:\u001b[32m134\u001b[39m)\n  scala.collection.IterableOnceOps.foldLeft(\u001b[32mIterableOnce.scala\u001b[39m:\u001b[32m646\u001b[39m)\n  scala.collection.IterableOnceOps.foldLeft$(\u001b[32mIterableOnce.scala\u001b[39m:\u001b[32m642\u001b[39m)\n  scala.collection.AbstractIterable.foldLeft(\u001b[32mIterable.scala\u001b[39m:\u001b[32m919\u001b[39m)\n  plotly.internals.BetterPrinter.$anonfun$render$8(\u001b[32mBetterPrinter.scala\u001b[39m:\u001b[32m128\u001b[39m)\n  plotly.internals.shaded.argonaut.Json.fold(\u001b[32mJson.scala\u001b[39m:\u001b[32m33\u001b[39m)\n  plotly.internals.BetterPrinter.trav$1(\u001b[32mBetterPrinter.scala\u001b[39m:\u001b[32m127\u001b[39m)\n  plotly.internals.BetterPrinter.render(\u001b[32mBetterPrinter.scala\u001b[39m:\u001b[32m141\u001b[39m)\n  plotly.Plotly$.jsSnippet(\u001b[32mPlotly.scala\u001b[39m:\u001b[32m50\u001b[39m)\n  plotly.Almond$.plotJs(\u001b[32mAlmond.scala\u001b[39m:\u001b[32m75\u001b[39m)\n  plotly.Almond$.plot(\u001b[32mAlmond.scala\u001b[39m:\u001b[32m119\u001b[39m)\n  plotly.Almond$DataSeqOps$.plot$extension(\u001b[32mAlmond.scala\u001b[39m:\u001b[32m314\u001b[39m)\n  plotly.Almond$DataSeqOps$.plot$extension(\u001b[32mAlmond.scala\u001b[39m:\u001b[32m270\u001b[39m)\n  ammonite.$sess.cmd7$Helper.<init>(\u001b[32mcmd7.sc\u001b[39m:\u001b[32m1\u001b[39m)\n  ammonite.$sess.cmd7$.<clinit>(\u001b[32mcmd7.sc\u001b[39m:\u001b[32m7\u001b[39m)"
     ]
    }
   ],
   "source": [
    "data_scatter(personalityAmount).plot()"
   ]
  },
  {
   "cell_type": "code",
   "execution_count": null,
   "metadata": {},
   "outputs": [],
   "source": [
    "plot_data(personalityPayIn)"
   ]
  },
  {
   "cell_type": "code",
   "execution_count": null,
   "metadata": {},
   "outputs": [],
   "source": [
    "val (x, y) = Seq(\n",
    "  \"Banana\" -> 10,\n",
    "  \"Apple\" -> 8,\n",
    "  \"Grapefruit\" -> 5\n",
    ").unzip\n",
    "\n",
    "Bar(x, y).plot()"
   ]
  },
  {
   "cell_type": "code",
   "execution_count": null,
   "metadata": {},
   "outputs": [],
   "source": []
  }
 ],
 "metadata": {
  "kernelspec": {
   "display_name": "Scala",
   "language": "scala",
   "name": "scala"
  },
  "language_info": {
   "codemirror_mode": "text/x-scala",
   "file_extension": ".sc",
   "mimetype": "text/x-scala",
   "name": "scala",
   "nbconvert_exporter": "script",
   "version": "2.13.4"
  }
 },
 "nbformat": 4,
 "nbformat_minor": 4
}
